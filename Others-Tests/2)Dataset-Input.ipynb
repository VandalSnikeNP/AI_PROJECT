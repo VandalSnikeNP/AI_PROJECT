{
 "cells": [
  {
   "cell_type": "markdown",
   "source": [],
   "metadata": {
    "collapsed": false
   },
   "id": "20eaa0296dbfc600"
  },
  {
   "cell_type": "markdown",
   "source": [
    "# Dataset e Input\n"
   ],
   "metadata": {
    "collapsed": false
   },
   "id": "92105044076ed6"
  },
  {
   "cell_type": "markdown",
   "source": [
    "## 1) Random semplici"
   ],
   "metadata": {
    "collapsed": false
   },
   "id": "f1b7980533732392"
  },
  {
   "cell_type": "code",
   "outputs": [],
   "source": [
    "import torch\n",
    "import matplotlib.pyplot as plt"
   ],
   "metadata": {
    "collapsed": false,
    "ExecuteTime": {
     "end_time": "2024-08-02T16:15:46.522426Z",
     "start_time": "2024-08-02T16:15:46.505425Z"
    }
   },
   "id": "379c2d7132848f04",
   "execution_count": 46
  },
  {
   "cell_type": "code",
   "outputs": [],
   "source": [
    "N=10\n",
    "input_size=100\n",
    "output_size=1\n",
    "\n",
    "X=torch.rand(N,input_size)\n",
    "Y=torch.rand(N,output_size)"
   ],
   "metadata": {
    "collapsed": false,
    "ExecuteTime": {
     "end_time": "2024-08-02T16:15:46.538425Z",
     "start_time": "2024-08-02T16:15:46.532419Z"
    }
   },
   "id": "be9c816a8a538329",
   "execution_count": 47
  },
  {
   "cell_type": "markdown",
   "source": [
    "Questi dati possono essere utilizzati a livello tensoriale ma non sono pronti per essere usati tramite un modello in classe."
   ],
   "metadata": {
    "collapsed": false
   },
   "id": "6f81c85420c71b4b"
  },
  {
   "cell_type": "markdown",
   "source": [
    "# Dataset class"
   ],
   "metadata": {
    "collapsed": false
   },
   "id": "40be868fbf0f6d2c"
  },
  {
   "cell_type": "markdown",
   "source": [
    "The dataset class summarizes the basic functionality of a dataset in a natural way. To define a dataset in PyTorch, we simply specify two functions: __getitem__, and __len__. The get-item function has to return the -th data point in the dataset, while the len function returns the size of the dataset. For the XOR dataset, we can define the dataset class as follows:"
   ],
   "metadata": {
    "collapsed": false
   },
   "id": "f369dea877be88d1"
  },
  {
   "cell_type": "code",
   "outputs": [],
   "source": [
    "import torch.utils.data as data"
   ],
   "metadata": {
    "collapsed": false,
    "ExecuteTime": {
     "end_time": "2024-08-02T16:15:46.601450Z",
     "start_time": "2024-08-02T16:15:46.587424Z"
    }
   },
   "id": "2845cbe210051e3",
   "execution_count": 48
  },
  {
   "cell_type": "code",
   "outputs": [],
   "source": [
    "class MyDataset(data.Dataset):\n",
    "    def __init__(self,n,std=0.01):\n",
    "        super().__init__()\n",
    "        self.std=std\n",
    "        self.n=n\n",
    "        self.generate_continuous_xor()\n",
    "    def __len__(self):\n",
    "        # Number of data point we have. Alternatively self.data.shape[0], or self.label.shape[0]\n",
    "        return self.n\n",
    "\n",
    "    def __getitem__(self, idx):\n",
    "        # Return the idx-th data point of the dataset\n",
    "        # If we have multiple things to return (data point and label), we can return them as tuple\n",
    "        data_point = self.data[idx]\n",
    "        data_label = self.label[idx]\n",
    "        return data_point, data_label\n",
    "    \n",
    "    def generate_continuous_xor(self):\n",
    "        # Each data point in the XOR dataset has two variables, x and y, that can be either 0 or 1\n",
    "        data = torch.randint(low=0, high=2, size=(self.n, 2), dtype=torch.float32)\n",
    "        \n",
    "        # To make it slightly more challenging, we add a bit of gaussian noise to the data points.\n",
    "        data += self.std * torch.randn(data.shape)\n",
    "        \n",
    "        # The label is their XOR combination, i.e. 1 if only x or only y is 1 while the other is 0.\n",
    "        # If x=y, the label is 0.\n",
    "        label = (data.sum(dim=1) == 1).to(torch.long)\n",
    "\n",
    "        self.data = data\n",
    "        self.label = label\n",
    "\n",
    "        "
   ],
   "metadata": {
    "collapsed": false,
    "ExecuteTime": {
     "end_time": "2024-08-02T16:15:46.633455Z",
     "start_time": "2024-08-02T16:15:46.611419Z"
    }
   },
   "id": "330a7ebbf4685a58",
   "execution_count": 49
  },
  {
   "cell_type": "code",
   "outputs": [
    {
     "name": "stdout",
     "output_type": "stream",
     "text": [
      "Size of dataset: 200\n",
      "Data point 0: (tensor([0.9715, 0.9337]), tensor(0))\n"
     ]
    }
   ],
   "source": [
    "dataset = MyDataset(n=200,std=0.1)\n",
    "print(\"Size of dataset:\", len(dataset))\n",
    "print(\"Data point 0:\", dataset[0])"
   ],
   "metadata": {
    "collapsed": false,
    "ExecuteTime": {
     "end_time": "2024-08-02T16:15:46.665452Z",
     "start_time": "2024-08-02T16:15:46.656421Z"
    }
   },
   "id": "47f6f4fec40dfd8",
   "execution_count": 50
  },
  {
   "cell_type": "code",
   "outputs": [],
   "source": [],
   "metadata": {
    "collapsed": false,
    "ExecuteTime": {
     "end_time": "2024-08-02T16:15:46.697419Z",
     "start_time": "2024-08-02T16:15:46.683420Z"
    }
   },
   "id": "5d9beda549e46b31",
   "execution_count": 50
  },
  {
   "cell_type": "code",
   "outputs": [],
   "source": [
    "def visualize_samples(data, label):\n",
    "    if isinstance(data, torch.Tensor):\n",
    "        data = data.cpu().numpy()\n",
    "    if isinstance(label, torch.Tensor):\n",
    "        label = label.cpu().numpy()\n",
    "    data_0 = data[label == 0]\n",
    "    data_1 = data[label == 1]\n",
    "\n",
    "    plt.figure(figsize=(8,4))\n",
    "    plt.scatter(data_0[:,0], data_0[:,1], edgecolor=\"#333\", label=\"Class 0\")\n",
    "    plt.scatter(data_1[:,0], data_1[:,1], edgecolor=\"#333\", label=\"Class 1\")\n",
    "    plt.title(\"Dataset samples\")\n",
    "    plt.ylabel(r\"$x_2$\")\n",
    "    plt.xlabel(r\"$x_1$\")\n",
    "    plt.legend()"
   ],
   "metadata": {
    "collapsed": false,
    "ExecuteTime": {
     "end_time": "2024-08-02T16:15:46.729421Z",
     "start_time": "2024-08-02T16:15:46.716425Z"
    }
   },
   "id": "9fb25847973235bc",
   "execution_count": 51
  },
  {
   "cell_type": "code",
   "outputs": [
    {
     "data": {
      "text/plain": "<Figure size 800x400 with 1 Axes>",
      "image/png": "[encoded data removed]"
     },
     "metadata": {},
     "output_type": "display_data"
    }
   ],
   "source": [
    "visualize_samples(dataset.data, dataset.label)\n",
    "plt.show()"
   ],
   "metadata": {
    "collapsed": false,
    "ExecuteTime": {
     "end_time": "2024-08-02T16:15:47.031450Z",
     "start_time": "2024-08-02T16:15:46.732419Z"
    }
   },
   "id": "cca30adf51374bb2",
   "execution_count": 52
  },
  {
   "cell_type": "markdown",
   "source": [
    "# The dataloader class"
   ],
   "metadata": {
    "collapsed": false
   },
   "id": "5be1d0783caabcd2"
  },
  {
   "cell_type": "markdown",
   "source": [
    "The class torch.utils.data.DataLoader represents a Python iterable over a dataset with support for automatic batching, multi-process data loading and many more features. The data loader communicates with the dataset using the function __getitem__, and stacks its outputs as tensors over the first dimension to form a batch.\n",
    "\n",
    "batch_size: Number of samples to stack per batch\n",
    "\n",
    "shuffle: If True, the data is returned in a random order. This is important during training for introducing stochasticity.\n",
    "\n",
    "num_workers: Number of subprocesses to use for data loading. The default, 0, means that the data will be loaded in the main process which can slow down training for datasets where loading a data point takes a considerable amount of time (e.g. large images). More workers are recommended for those, but can cause issues on Windows computers. For tiny datasets as ours, 0 workers are usually faster.\n",
    "\n",
    "pin_memory: If True, the data loader will copy Tensors into CUDA pinned memory before returning them. This can save some time for large data points on GPUs. Usually a good practice to use for a training set, but not necessarily for validation and test to save memory on the GPU.\n",
    "\n",
    "drop_last: If True, the last batch is dropped in case it is smaller than the specified batch size. This occurs when the dataset size is not a multiple of the batch size. Only potentially helpful during training to keep a consistent batch size."
   ],
   "metadata": {
    "collapsed": false
   },
   "id": "704df806c562f9fd"
  },
  {
   "cell_type": "code",
   "outputs": [],
   "source": [
    "data_loader = data.DataLoader(dataset, batch_size=8, shuffle=True)"
   ],
   "metadata": {
    "collapsed": false,
    "ExecuteTime": {
     "end_time": "2024-08-02T16:15:47.046730Z",
     "start_time": "2024-08-02T16:15:47.033419Z"
    }
   },
   "id": "da4687a6cc494bc0",
   "execution_count": 53
  },
  {
   "cell_type": "code",
   "outputs": [
    {
     "name": "stdout",
     "output_type": "stream",
     "text": [
      "Data inputs torch.Size([8, 2]) \n",
      " tensor([[-0.0642,  0.0280],\n",
      "        [-0.0064, -0.0740],\n",
      "        [ 0.0644,  0.9260],\n",
      "        [ 0.9853, -0.0757],\n",
      "        [ 0.7681,  0.9668],\n",
      "        [-0.0571,  0.8221],\n",
      "        [ 1.0790,  0.9760],\n",
      "        [ 0.9457, -0.0048]])\n",
      "Data labels torch.Size([8]) \n",
      " tensor([0, 0, 0, 0, 0, 0, 0, 0])\n"
     ]
    }
   ],
   "source": [
    "# next(iter(...)) catches the first batch of the data loader\n",
    "data_inputs, data_labels = next(iter(data_loader))\n",
    "\n",
    "# The shape of the outputs are [batch_size, d_1,...,d_N] where d_1,...,d_N are the\n",
    "# dimensions of the data point returned from the dataset class\n",
    "print(\"Data inputs\", data_inputs.shape, \"\\n\", data_inputs)\n",
    "print(\"Data labels\", data_labels.shape, \"\\n\", data_labels)"
   ],
   "metadata": {
    "collapsed": false,
    "ExecuteTime": {
     "end_time": "2024-08-02T16:15:47.061732Z",
     "start_time": "2024-08-02T16:15:47.048732Z"
    }
   },
   "id": "b49d2d2f381c0eb3",
   "execution_count": 54
  },
  {
   "cell_type": "code",
   "outputs": [],
   "source": [],
   "metadata": {
    "collapsed": false,
    "ExecuteTime": {
     "end_time": "2024-08-02T16:15:47.077729Z",
     "start_time": "2024-08-02T16:15:47.064730Z"
    }
   },
   "id": "709ee06c580fbf92",
   "execution_count": 54
  }
 ],
 "metadata": {
  "kernelspec": {
   "display_name": "Python 3",
   "language": "python",
   "name": "python3"
  },
  "language_info": {
   "codemirror_mode": {
    "name": "ipython",
    "version": 2
   },
   "file_extension": ".py",
   "mimetype": "text/x-python",
   "name": "python",
   "nbconvert_exporter": "python",
   "pygments_lexer": "ipython2",
   "version": "2.7.6"
  }
 },
 "nbformat": 4,
 "nbformat_minor": 5
}

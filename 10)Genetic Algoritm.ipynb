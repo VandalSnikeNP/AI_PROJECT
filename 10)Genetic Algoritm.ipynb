{
 "cells": [
  {
   "cell_type": "code",
   "id": "initial_id",
   "metadata": {
    "collapsed": true,
    "ExecuteTime": {
     "end_time": "2024-10-15T12:41:41.341215Z",
     "start_time": "2024-10-15T12:41:41.331214Z"
    }
   },
   "source": "import random",
   "outputs": [],
   "execution_count": 1
  },
  {
   "metadata": {
    "ExecuteTime": {
     "end_time": "2024-10-15T12:55:15.823763Z",
     "start_time": "2024-10-15T12:55:15.803763Z"
    }
   },
   "cell_type": "code",
   "source": [
    "class Chromosome(object):\n",
    "    def __init__(self, chromosome):\n",
    "        # lista di geni costruzione\n",
    "        self.chromosome = chromosome\n",
    "        # calcolo fitness dell'individuo in costruzione\n",
    "        self.fitness = self.fitness_score()\n",
    "        \n",
    "    def crossover(self,second_parent): #Istanze first and second parent chiamata sull'istanza stessa\n",
    "        # Nuovo cromosoma del figlio\n",
    "        child_chromosome = []\n",
    "        # Con una determinata probabilità viene scelto un gene da un genitore\n",
    "        for genome_first_parent,genome_second_parent in zip(self.chromosome,second_parent.chromosome):\n",
    "         prob=random.random()\n",
    "         if prob<0.20:\n",
    "             child_chromosome.append(genome_first_parent)\n",
    "         elif prob<0.90:\n",
    "             child_chromosome.append(genome_second_parent)\n",
    "         else:\n",
    "         # Mutazione\n",
    "            child_chromosome.append(self.genes_mutated())\n",
    "            \n",
    "        return Chromosome(child_chromosome)\n",
    "    \n",
    "    # Create chromosome\n",
    "    @classmethod\n",
    "    def create_chromosome(self):\n",
    "        global Solution\n",
    "        genome_len=len(Solution)\n",
    "        return [self.genes_mutated() for i in range(genome_len)]\n",
    "    \n",
    "    # Mutuation\n",
    "    @classmethod\n",
    "    def genes_mutated(self):\n",
    "        global genes\n",
    "        random_gene = random.choice(genes)\n",
    "        return random_gene\n",
    "    \n",
    "    def fitness_score(self):\n",
    "        global Solution\n",
    "        fitness = 0\n",
    "        for xx,yy in zip(self.chromosome,Solution):\n",
    "            if xx!= yy: fitness+=1\n",
    "        return fitness\n",
    "    "
   ],
   "id": "c4d32e753313e6a7",
   "outputs": [],
   "execution_count": 5
  },
  {
   "metadata": {
    "ExecuteTime": {
     "end_time": "2024-10-15T12:55:16.569545Z",
     "start_time": "2024-10-15T12:55:16.562512Z"
    }
   },
   "cell_type": "code",
   "source": [
    "pop_size = 100\n",
    "genes='iyibgo8hgog ofuycuyof '\n",
    "\n",
    "Solution='Caterina è bellissima'\n",
    "generation=1\n",
    "solution_found=False\n",
    "\n",
    "population=[]\n",
    "for i in range(pop_size):\n",
    "    genome = Chromosome.create_chromosome()\n",
    "    population.append(Chromosome(genome))"
   ],
   "id": "3aaa4b266cddb0b7",
   "outputs": [],
   "execution_count": 6
  },
  {
   "metadata": {
    "ExecuteTime": {
     "end_time": "2024-10-15T12:55:17.625221Z",
     "start_time": "2024-10-15T12:55:17.609255Z"
    }
   },
   "cell_type": "code",
   "source": [
    "while not solution_found:\n",
    "    population = sorted(population, key=lambda x: x.fitness)\n",
    "    if population[0].fitness <= 0:\n",
    "        solution_found=True\n",
    "        break\n",
    "    new_generation=[]\n",
    "    \n",
    "    #Selection\n",
    "    x = int((15*pop_size)/100)\n",
    "    new_generation.extend(population[:x])\n",
    "    \n",
    "    #Crossover & mutation\n",
    "    x = int((85*pop_size)/100)\n",
    "    for _ in range(x):\n",
    "        first_parent = random.choice(population[:50])\n",
    "        second_parent = random.choice(population[:50])\n",
    "        child = first_parent.crossover(second_parent)\n",
    "        new_generation.append(child)\n",
    "    \n",
    "    population=new_generation\n",
    "    generation += 1"
   ],
   "id": "b2dfde0251de50a3",
   "outputs": [],
   "execution_count": 7
  },
  {
   "metadata": {},
   "cell_type": "code",
   "outputs": [],
   "execution_count": null,
   "source": "",
   "id": "80f1c6f15ef5d74a"
  }
 ],
 "metadata": {
  "kernelspec": {
   "display_name": "Python 3",
   "language": "python",
   "name": "python3"
  },
  "language_info": {
   "codemirror_mode": {
    "name": "ipython",
    "version": 2
   },
   "file_extension": ".py",
   "mimetype": "text/x-python",
   "name": "python",
   "nbconvert_exporter": "python",
   "pygments_lexer": "ipython2",
   "version": "2.7.6"
  }
 },
 "nbformat": 4,
 "nbformat_minor": 5
}

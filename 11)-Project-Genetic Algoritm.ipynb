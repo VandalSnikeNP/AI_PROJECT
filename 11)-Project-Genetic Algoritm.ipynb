{
 "cells": [
  {
   "cell_type": "code",
   "id": "initial_id",
   "metadata": {
    "collapsed": true,
    "ExecuteTime": {
     "end_time": "2024-10-19T14:12:06.462571Z",
     "start_time": "2024-10-19T14:12:06.442478Z"
    }
   },
   "source": [
    "import random\n",
    "import numpy as np\n",
    "\n",
    "import torch\n",
    "import torch.nn as nn\n",
    "import torch.optim as optim\n",
    "from scipy.interpolate import interp1d\n",
    "import torch.nn.init as init"
   ],
   "outputs": [],
   "execution_count": 273
  },
  {
   "metadata": {},
   "cell_type": "markdown",
   "source": "## Custom Function Activation -- Module",
   "id": "23c01cd8b22174f7"
  },
  {
   "metadata": {
    "ExecuteTime": {
     "end_time": "2024-10-19T14:12:06.495181Z",
     "start_time": "2024-10-19T14:12:06.488659Z"
    }
   },
   "cell_type": "code",
   "source": [
    "class CustomFunction(nn.Module):\n",
    "    def __init__(self,function):\n",
    "        super().__init__()\n",
    "        self.function = function\n",
    "        \n",
    "    def forward(self, x):\n",
    "        global lim_inf,lim_sup\n",
    "        x = torch.clamp(x, lim_inf, lim_sup)\n",
    "        x = x.detach().numpy()\n",
    "        return torch.tensor(self.function(x), dtype=torch.float32)"
   ],
   "id": "49b07d477a66dcef",
   "outputs": [],
   "execution_count": 274
  },
  {
   "metadata": {},
   "cell_type": "markdown",
   "source": "## Class MLP_CUSTOM",
   "id": "bbc5d13b4f5473c0"
  },
  {
   "metadata": {
    "ExecuteTime": {
     "end_time": "2024-10-19T14:12:06.586323Z",
     "start_time": "2024-10-19T14:12:06.573253Z"
    }
   },
   "cell_type": "code",
   "source": [
    "class MLP_Custom(nn.Module):\n",
    "    def __init__(self,input_size,hidden_size,output_size,genome):\n",
    "        super().__init__()\n",
    "        self.fc1 = nn.Linear(input_size,hidden_size)\n",
    "        self.custom_activation = CustomFunction(self.act_func_generator(genome))\n",
    "        self.fc2 = nn.Linear(hidden_size,output_size)\n",
    "        \n",
    "        global seed\n",
    "        if seed is not None:\n",
    "            torch.manual_seed(seed)\n",
    "    def forward(self,x):\n",
    "        x=self.fc1(x)\n",
    "        x=self.custom_activation(x)\n",
    "        x=self.fc2(x)\n",
    "        return x\n",
    "    \n",
    "    def act_func_generator(self,genome):\n",
    "     global lim_inf,lim_sup\n",
    "     x_dom = np.linspace(lim_inf,lim_sup, len(genome))\n",
    "     function = interp1d(x_dom, genome, kind='cubic', fill_value=\"extrapolate\")\n",
    "     return function\n",
    "    \n",
    "    def init_weights(self):\n",
    "     init.xavier_uniform_(self.fc1.weight)\n",
    "     init.zeros_(self.fc1.bias)\n",
    "     init.xavier_uniform_(self.fc2.weight)\n",
    "     init.zeros_(self.fc2.bias)\n"
   ],
   "id": "34a80caff4d5742b",
   "outputs": [],
   "execution_count": 275
  },
  {
   "metadata": {
    "ExecuteTime": {
     "end_time": "2024-10-19T14:12:06.695189Z",
     "start_time": "2024-10-19T14:12:06.682058Z"
    }
   },
   "cell_type": "code",
   "source": [
    " def print_par(index):\n",
    "  for name, param in net_pop[index].network.named_parameters():\n",
    "   print(f'Ind:{index},{name}: {np.round(np.array(param.data),3).reshape(1, -1) }')"
   ],
   "id": "d9835ff012acaed0",
   "outputs": [],
   "execution_count": 276
  },
  {
   "metadata": {
    "ExecuteTime": {
     "end_time": "2024-10-19T14:12:06.803316Z",
     "start_time": "2024-10-19T14:12:06.777258Z"
    }
   },
   "cell_type": "code",
   "source": [
    "class Individual(object):\n",
    "    def __init__(self,genome,input_size,hidden_size,output_size):\n",
    "        self.genome  = genome\n",
    "        self.input_size = input_size\n",
    "        self.hidden_size = hidden_size\n",
    "        self.output_size = output_size\n",
    "        self.score= None       \n",
    "        self.network = MLP_Custom(self.input_size,self.hidden_size,self.output_size,self.genome)\n",
    "        self.init_pars=self.network.parameters()\n",
    "        self.trained_pars= None\n",
    "    \n",
    "    # Create chromosome\n",
    "    @classmethod\n",
    "    def create_chromosome(self,level_inf,level_sup,step,dna_length,inter):  \n",
    "     if inter == False:\n",
    "      dna = np.random.choice(np.arange(level_inf, level_sup, step), size=dna_length, replace=True)\n",
    "     else:\n",
    "      dna = np.random.randint(level_inf, level_sup, dna_length)\n",
    "     return dna\n",
    "    \n",
    "    def training(self,lr,epochs,X,Y):\n",
    "     mse_loss = nn.MSELoss()\n",
    "     optimizer = optim.Adam(self.network.parameters(), lr)\n",
    "    \n",
    "     loss_values_custom = []\n",
    "     for epoch in range(epochs):\n",
    "        self.network.train()\n",
    "        optimizer.zero_grad()\n",
    "        output = self.network(X)\n",
    "        loss = mse_loss(output, Y)\n",
    "        #print(loss.item())\n",
    "        loss_values_custom.append(loss.item())\n",
    "        loss.backward()\n",
    "        optimizer.step()\n",
    "     self.score = loss_values_custom[-1] \n",
    "     self.trained_pars=self.network.parameters()"
   ],
   "id": "c4d32e753313e6a7",
   "outputs": [],
   "execution_count": 277
  },
  {
   "metadata": {
    "ExecuteTime": {
     "end_time": "2024-10-19T14:12:06.975042Z",
     "start_time": "2024-10-19T14:12:06.901205Z"
    }
   },
   "cell_type": "code",
   "source": [
    "# ----------------Activation Parameters-------------------\n",
    "# Codomain limits\n",
    "level_inf=0\n",
    "level_sup=3\n",
    "inter = False\n",
    "step=0.01\n",
    "# Domain limits\n",
    "lim_inf=-3\n",
    "lim_sup=3\n",
    "# DNA Length\n",
    "dna_length=20\n",
    "# ----------------Training Parameters-------------------\n",
    "# input_size\n",
    "input_size=1\n",
    "# hidden_size\n",
    "hidden_size=10\n",
    "# output_size\n",
    "output_size=1\n",
    "# Epochs\n",
    "epochs=1000\n",
    "# Learning Rate\n",
    "lr=0.01\n",
    "# Seed parameters generation\n",
    "seed = 42\n",
    "# ----------------Genetic Algorithm Parameters-------------------\n",
    "# Number of networks\n",
    "pop_size = 10\n",
    "# Number of generations\n",
    "N_gens=100\n",
    "\n",
    "# ----------------Initilization----------------------------------\n",
    "net_pop=[]\n",
    "for i in range(pop_size):\n",
    "    # Generation DNA for activation function\n",
    "    genome = Individual.create_chromosome(level_inf,level_sup,step,dna_length,inter)\n",
    "    # Networks Initialization\n",
    "    net_pop.append(Individual(genome,input_size,hidden_size,output_size))"
   ],
   "id": "3aaa4b266cddb0b7",
   "outputs": [],
   "execution_count": 278
  },
  {
   "metadata": {
    "ExecuteTime": {
     "end_time": "2024-10-19T14:13:10.950198Z",
     "start_time": "2024-10-19T14:13:10.934677Z"
    }
   },
   "cell_type": "code",
   "source": " print_par(3)",
   "id": "be759a942edb41d2",
   "outputs": [
    {
     "name": "stdout",
     "output_type": "stream",
     "text": [
      "Ind:3,fc1.weight: [[ 0.765  0.83  -0.234  0.919 -0.219  0.202 -0.487  0.587  0.882 -0.734]]\n",
      "Ind:3,fc1.bias: [[ 0.869  0.187  0.739  0.135  0.482 -0.141  0.771  0.148 -0.467  0.255]]\n",
      "Ind:3,fc2.weight: [[-0.166 -0.609  0.711  0.245  0.05   0.029 -0.203  0.055 -0.31  -0.312]]\n",
      "Ind:3,fc2.bias: [[0.733]]\n"
     ]
    }
   ],
   "execution_count": 288
  },
  {
   "metadata": {
    "ExecuteTime": {
     "end_time": "2024-10-19T14:12:33.618268Z",
     "start_time": "2024-10-19T14:12:07.198255Z"
    }
   },
   "cell_type": "code",
   "source": [
    "X=np.linspace(-2,2,1000).reshape(-1,1)\n",
    "Y=np.sin(X)\n",
    "X_tensor = torch.tensor(X,dtype=torch.float32)\n",
    "Y_tensor = torch.tensor(Y,dtype=torch.float32)\n",
    "\n",
    "for i in range(pop_size):\n",
    " #print(f'Starting training of network:{i}')\n",
    " net_pop[i].training(lr,epochs,X_tensor,Y_tensor)"
   ],
   "id": "f17e7136daa6c2c9",
   "outputs": [],
   "execution_count": 280
  },
  {
   "metadata": {
    "ExecuteTime": {
     "end_time": "2024-10-19T14:12:33.728961Z",
     "start_time": "2024-10-19T14:12:33.716913Z"
    }
   },
   "cell_type": "code",
   "source": " print_par(2)",
   "id": "e6543ab7011a560c",
   "outputs": [
    {
     "name": "stdout",
     "output_type": "stream",
     "text": [
      "Ind:2,fc1.weight: [[ 0.765  0.83  -0.234  0.919 -0.219  0.202 -0.487  0.587  0.882 -0.734]]\n",
      "Ind:2,fc1.bias: [[ 0.869  0.187  0.739  0.135  0.482 -0.141  0.771  0.148 -0.467  0.255]]\n",
      "Ind:2,fc2.weight: [[-0.255 -0.069  0.395 -0.177  0.27   0.531 -0.007 -0.121 -0.193 -0.13 ]]\n",
      "Ind:2,fc2.bias: [[-0.184]]\n"
     ]
    }
   ],
   "execution_count": 281
  },
  {
   "metadata": {
    "ExecuteTime": {
     "end_time": "2024-10-19T14:12:33.839315Z",
     "start_time": "2024-10-19T14:12:33.827785Z"
    }
   },
   "cell_type": "code",
   "source": [
    "score_list=[]\n",
    "for i,ind in enumerate(net_pop):\n",
    "    score_list.append(ind.score)\n",
    "\n",
    "score_list.index(min(score_list))\n"
   ],
   "id": "cc0d186e2f2f5209",
   "outputs": [
    {
     "data": {
      "text/plain": [
       "9"
      ]
     },
     "execution_count": 282,
     "metadata": {},
     "output_type": "execute_result"
    }
   ],
   "execution_count": 282
  },
  {
   "metadata": {
    "ExecuteTime": {
     "end_time": "2024-10-19T14:12:34.011816Z",
     "start_time": "2024-10-19T14:12:33.998298Z"
    }
   },
   "cell_type": "code",
   "source": "subset=random.sample(net_pop,5)",
   "id": "38c28bebe4c78ac",
   "outputs": [],
   "execution_count": 283
  },
  {
   "metadata": {
    "ExecuteTime": {
     "end_time": "2024-10-19T14:12:34.026925Z",
     "start_time": "2024-10-19T14:12:34.019402Z"
    }
   },
   "cell_type": "code",
   "source": "subset[0]",
   "id": "3d0422b6fae784d9",
   "outputs": [
    {
     "data": {
      "text/plain": [
       "<__main__.Individual at 0x24ff6c5fa30>"
      ]
     },
     "execution_count": 284,
     "metadata": {},
     "output_type": "execute_result"
    }
   ],
   "execution_count": 284
  },
  {
   "metadata": {
    "ExecuteTime": {
     "end_time": "2024-10-19T14:12:34.137377Z",
     "start_time": "2024-10-19T14:12:34.124325Z"
    }
   },
   "cell_type": "code",
   "source": [
    "# while not solution_found:\n",
    "#     population = sorted(population, key=lambda x: x.fitness)\n",
    "#     if population[0].fitness <= 0:\n",
    "#         solution_found=True\n",
    "#         break\n",
    "#     new_generation=[]\n",
    "#     \n",
    "#     #Selection\n",
    "#     x = int((15*pop_size)/100)\n",
    "#     new_generation.extend(population[:x])\n",
    "#     \n",
    "#     #Crossover & mutation\n",
    "#     x = int((85*pop_size)/100)\n",
    "#     for _ in range(x):\n",
    "#         first_parent = random.choice(population[:50])\n",
    "#         second_parent = random.choice(population[:50])\n",
    "#         child = first_parent.crossover(second_parent)\n",
    "#         new_generation.append(child)\n",
    "#     \n",
    "#     population=new_generation\n",
    "#     generation += 1"
   ],
   "id": "b2dfde0251de50a3",
   "outputs": [],
   "execution_count": 285
  },
  {
   "metadata": {
    "ExecuteTime": {
     "end_time": "2024-10-19T14:12:34.228869Z",
     "start_time": "2024-10-19T14:12:34.216337Z"
    }
   },
   "cell_type": "code",
   "source": [
    "    # # Mutuation\n",
    "    # @classmethod\n",
    "    # def genes_mutated(self):\n",
    "    #     global genes\n",
    "    #     random_gene = random.choice(genes)\n",
    "    #     return random_gene\n",
    "    # \n",
    "    # def fitness_score(self):\n",
    "    #     global Solution\n",
    "    #     fitness = 0\n",
    "    #     for xx,yy in zip(self.chromosome,Solution):\n",
    "    #         if xx!= yy: fitness+=1\n",
    "    #     return fitness"
   ],
   "id": "80f1c6f15ef5d74a",
   "outputs": [],
   "execution_count": 286
  },
  {
   "metadata": {
    "ExecuteTime": {
     "end_time": "2024-10-19T14:12:34.324018Z",
     "start_time": "2024-10-19T14:12:34.310328Z"
    }
   },
   "cell_type": "code",
   "source": [
    "    # def crossover(self,second_parent): #Istanze first and second parent chiamata sull'istanza stessa\n",
    "    #     # Nuovo cromosoma del figlio\n",
    "    #     child_chromosome = []\n",
    "    #     # Con una determinata probabilità viene scelto un gene da un genitore\n",
    "    #     for genome_first_parent,genome_second_parent in zip(self.chromosome,second_parent.chromosome):\n",
    "    #      prob=random.random()\n",
    "    #      if prob<0.20:\n",
    "    #          child_chromosome.append(genome_first_parent)\n",
    "    #      elif prob<0.90:\n",
    "    #          child_chromosome.append(genome_second_parent)\n",
    "    #      else:\n",
    "    #      # Mutazione\n",
    "    #         child_chromosome.append(self.genes_mutated())\n",
    "    #         \n",
    "    #     return Chromosome(child_chromosome)"
   ],
   "id": "febaa9143fa86115",
   "outputs": [],
   "execution_count": 287
  }
 ],
 "metadata": {
  "kernelspec": {
   "display_name": "Python 3",
   "language": "python",
   "name": "python3"
  },
  "language_info": {
   "codemirror_mode": {
    "name": "ipython",
    "version": 2
   },
   "file_extension": ".py",
   "mimetype": "text/x-python",
   "name": "python",
   "nbconvert_exporter": "python",
   "pygments_lexer": "ipython2",
   "version": "2.7.6"
  }
 },
 "nbformat": 4,
 "nbformat_minor": 5
}

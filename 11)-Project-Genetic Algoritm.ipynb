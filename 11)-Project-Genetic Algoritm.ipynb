{
 "cells": [
  {
   "cell_type": "code",
   "id": "initial_id",
   "metadata": {
    "collapsed": true,
    "ExecuteTime": {
     "end_time": "2024-10-23T19:08:46.925372Z",
     "start_time": "2024-10-23T19:08:46.905371Z"
    }
   },
   "source": [
    "import random\n",
    "import numpy as np\n",
    "\n",
    "import torch\n",
    "import torch.nn as nn\n",
    "import torch.optim as optim\n",
    "from scipy.interpolate import interp1d\n",
    "import torch.nn.init as init"
   ],
   "outputs": [],
   "execution_count": 12
  },
  {
   "metadata": {},
   "cell_type": "markdown",
   "source": "## Custom Function Activation -- Module",
   "id": "23c01cd8b22174f7"
  },
  {
   "metadata": {
    "ExecuteTime": {
     "end_time": "2024-10-23T19:08:47.005374Z",
     "start_time": "2024-10-23T19:08:46.994372Z"
    }
   },
   "cell_type": "code",
   "source": [
    "class CustomFunction(nn.Module):\n",
    "    def __init__(self,function):\n",
    "        super().__init__()\n",
    "        self.function = function\n",
    "        \n",
    "    def forward(self, x):\n",
    "        global lim_inf,lim_sup\n",
    "        x = torch.clamp(x, lim_inf, lim_sup)\n",
    "        x = x.detach().numpy()\n",
    "        return torch.tensor(self.function(x), dtype=torch.float32)"
   ],
   "id": "49b07d477a66dcef",
   "outputs": [],
   "execution_count": 13
  },
  {
   "metadata": {},
   "cell_type": "markdown",
   "source": "## Class MLP_CUSTOM",
   "id": "bbc5d13b4f5473c0"
  },
  {
   "metadata": {
    "ExecuteTime": {
     "end_time": "2024-10-23T19:08:47.085377Z",
     "start_time": "2024-10-23T19:08:47.073373Z"
    }
   },
   "cell_type": "code",
   "source": [
    "class MLP_Custom(nn.Module):\n",
    "    def __init__(self, input_size, hidden_size, output_size, genome, pars):\n",
    "        super().__init__()\n",
    "        self.fc1 = nn.Linear(input_size, hidden_size)\n",
    "        self.custom_activation = CustomFunction(self.act_func_generator(genome))\n",
    "        self.fc2 = nn.Linear(hidden_size, output_size)\n",
    "        \n",
    "        if pars is not None:\n",
    "            self.set_weights(pars)\n",
    "        else:\n",
    "            self.init_weights()\n",
    "        \n",
    "        global seed\n",
    "        if seed is not None:\n",
    "            torch.manual_seed(seed)\n",
    "    \n",
    "    def forward(self, x):\n",
    "        x = self.fc1(x)\n",
    "        x = self.custom_activation(x)\n",
    "        x = self.fc2(x)\n",
    "        return x\n",
    "    \n",
    "    def act_func_generator(self, genome):\n",
    "        global lim_inf, lim_sup\n",
    "        x_dom = np.linspace(lim_inf, lim_sup, len(genome))\n",
    "        function = interp1d(x_dom, genome, kind='cubic', fill_value=\"extrapolate\")\n",
    "        return function\n",
    "    \n",
    "    def init_weights(self):\n",
    "        init.xavier_uniform_(self.fc1.weight)\n",
    "        init.zeros_(self.fc1.bias)\n",
    "        init.xavier_uniform_(self.fc2.weight)\n",
    "        init.zeros_(self.fc2.bias)\n",
    "    \n",
    "    def set_weights(self, pars):\n",
    "        with torch.no_grad():\n",
    "            for param, p in zip(self.parameters(), pars):\n",
    "                param.copy_(torch.tensor(p))\n",
    "\n"
   ],
   "id": "34a80caff4d5742b",
   "outputs": [],
   "execution_count": 14
  },
  {
   "metadata": {
    "ExecuteTime": {
     "end_time": "2024-10-23T19:08:47.163376Z",
     "start_time": "2024-10-23T19:08:47.151375Z"
    }
   },
   "cell_type": "code",
   "source": [
    " def print_par(index):\n",
    "  for name, param in net_pop[index].network.named_parameters():\n",
    "   print(f'Ind:{index},{name}: {np.round(np.array(param.data),3).reshape(1, -1)}')"
   ],
   "id": "d9835ff012acaed0",
   "outputs": [],
   "execution_count": 15
  },
  {
   "metadata": {
    "ExecuteTime": {
     "end_time": "2024-10-23T19:09:46.232056Z",
     "start_time": "2024-10-23T19:09:46.211063Z"
    }
   },
   "cell_type": "code",
   "source": [
    "class Individual(object):\n",
    "    def __init__(self,genome,input_size,hidden_size,output_size,pars=None):\n",
    "        self.genome  = genome\n",
    "        self.input_size = input_size\n",
    "        self.hidden_size = hidden_size\n",
    "        self.output_size = output_size\n",
    "        self.score= 0      \n",
    "        self.network = MLP_Custom(self.input_size,self.hidden_size,self.output_size,self.genome,pars)\n",
    "        self.init_pars=self.network.parameters()\n",
    "        self.trained_pars= None\n",
    "    \n",
    "    # Create chromosome\n",
    "    @classmethod\n",
    "    def create_chromosome(self,level_inf,level_sup,step,dna_length,inter):  \n",
    "     if inter == False:\n",
    "      dna = np.random.choice(np.arange(level_inf, level_sup, step), size=dna_length, replace=True)\n",
    "     else:\n",
    "      dna = np.random.randint(level_inf, level_sup, dna_length)\n",
    "     return dna\n",
    "    \n",
    "    def training(self,lr,epochs,X,Y):\n",
    "     mse_loss = nn.MSELoss()\n",
    "     optimizer = optim.Adam(self.network.parameters(), lr)\n",
    "    \n",
    "     loss_values_custom = []\n",
    "     for epoch in range(epochs):\n",
    "        self.network.train()\n",
    "        optimizer.zero_grad()\n",
    "        output = self.network(X)\n",
    "        loss = mse_loss(output, Y)\n",
    "        #print(loss.item())\n",
    "        loss_values_custom.append(loss.item())\n",
    "        loss.backward()\n",
    "        optimizer.step()\n",
    "     self.score = loss_values_custom[-1] \n",
    "     self.trained_pars=self.network.parameters()\n",
    "     \n",
    "    @classmethod\n",
    "    def selection(self,net_pop,k):\n",
    "      subset = random.sample(net_pop, k)\n",
    "      parent = min(subset, key=lambda x: x.score) \n",
    "      return parent\n",
    "    \n",
    "    @staticmethod\n",
    "    def mutation(genome,method='Flip Bit Mutation',hm_flip=3,hm_swap=1):\n",
    "        global level_inf,level_sup,step\n",
    "        if method == 'Flip Bit Mutation':\n",
    "         print(f'Original genome:{genome}')\n",
    "         for i in random.sample(range(len(genome)), hm_flip):\n",
    "          genome[i] = round(np.random.choice(np.arange(level_inf, level_sup, step), size=1, replace=True)[0],2)\n",
    "         print(f'Mutated genome:{genome}')         \n",
    "         return genome\n",
    "        else:\n",
    "         for _ in range(hm_swap):\n",
    "          i, j = random.sample(range(len(genome)), 2)\n",
    "          genome[i], genome[j] = genome[j], genome[i]\n",
    "          return genome\n",
    "    \n",
    "    # Crossover function\n",
    "    def crossover(self,second_parent,id,point=2,mut=False):\n",
    "        child_chromosome=[]\n",
    "        if mut is False:\n",
    "            if id == 1:\n",
    "             for x,y in zip(self.genome,second_parent.genome):\n",
    "              child_chromosome.append(round(random.choice([x, y]),2))\n",
    "             return  Individual(child_chromosome,self.input_size,self.hidden_size,self.output_size)\n",
    "            elif id == 2:\n",
    "             child_chromosome= self.genome[:point]+second_parent.genome[point:]\n",
    "             return  Individual(child_chromosome,self.input_size,self.hidden_size,self.output_size)\n",
    "        else:\n",
    "             if id == 1:\n",
    "              for x,y in zip(self.genome,second_parent.genome):\n",
    "               child_chromosome.append(round(random.choice([x, y]),2))\n",
    "              child_chromosome=Individual.mutation(child_chromosome)\n",
    "              return  Individual(child_chromosome,self.input_size,self.hidden_size,self.output_size)\n",
    "             elif id == 2:\n",
    "              child_chromosome= self.genome[:point]+second_parent.genome[point:]\n",
    "              return  Individual(child_chromosome,self.input_size,self.hidden_size,self.output_size)"
   ],
   "id": "c4d32e753313e6a7",
   "outputs": [],
   "execution_count": 24
  },
  {
   "metadata": {
    "ExecuteTime": {
     "end_time": "2024-10-23T19:14:20.938281Z",
     "start_time": "2024-10-23T19:14:20.882277Z"
    }
   },
   "cell_type": "code",
   "source": [
    "# ----------------Activation Parameters-------------------\n",
    "# Codomain limits\n",
    "level_inf=0\n",
    "level_sup=3\n",
    "inter = False\n",
    "step=0.01\n",
    "# Domain limits\n",
    "lim_inf=-3\n",
    "lim_sup=3\n",
    "# DNA Length\n",
    "dna_length=10\n",
    "# ----------------Training Parameters-------------------\n",
    "# input_size\n",
    "input_size=1\n",
    "# hidden_size\n",
    "hidden_size=10\n",
    "# output_size\n",
    "output_size=1\n",
    "# Epochs\n",
    "epochs=1000\n",
    "# Learning Rate\n",
    "lr=0.01\n",
    "# Seed parameters generation\n",
    "seed = 42\n",
    "# ----------------Genetic Algorithm Parameters-------------------\n",
    "# Number of networks\n",
    "pop_size = 5\n",
    "# Number of generations\n",
    "N_gens=2\n",
    "# Selection subject number\n",
    "k=5\n",
    "# Crossover and Mutation percentage\n",
    "mut_per= int((pop_size*30)/100)\n",
    "# Only Crossover percentage\n",
    "cro_per =pop_size-mut_per\n",
    "## ----------------Initilization----------------------------------\n",
    "net_pop=[]\n",
    "for i in range(pop_size):\n",
    "    # Generation DNA for activation function\n",
    "    genome = Individual.create_chromosome(level_inf,level_sup,step,dna_length,inter)\n",
    "    # Networks Initialization\n",
    "    net_pop.append(Individual(genome,input_size,hidden_size,output_size))"
   ],
   "id": "3aaa4b266cddb0b7",
   "outputs": [],
   "execution_count": 29
  },
  {
   "metadata": {
    "ExecuteTime": {
     "end_time": "2024-10-23T19:09:47.512654Z",
     "start_time": "2024-10-23T19:09:47.495650Z"
    }
   },
   "cell_type": "code",
   "source": " print_par(0)",
   "id": "be759a942edb41d2",
   "outputs": [
    {
     "name": "stdout",
     "output_type": "stream",
     "text": [
      "Ind:0,fc1.weight: [[-0.627  0.57   0.123 -0.24   0.456  0.115  0.597  0.081 -0.233  0.198]]\n",
      "Ind:0,fc1.bias: [[0. 0. 0. 0. 0. 0. 0. 0. 0. 0.]]\n",
      "Ind:0,fc2.weight: [[-0.2    0.311  0.659  0.427 -0.323  0.426  0.132  0.375 -0.45  -0.731]]\n",
      "Ind:0,fc2.bias: [[0.]]\n"
     ]
    }
   ],
   "execution_count": 26
  },
  {
   "metadata": {
    "ExecuteTime": {
     "end_time": "2024-10-23T19:09:47.682578Z",
     "start_time": "2024-10-23T19:09:47.666653Z"
    }
   },
   "cell_type": "code",
   "source": [
    "X=np.linspace(-2,2,1000).reshape(-1,1)\n",
    "Y=np.sin(X)\n",
    "X_tensor = torch.tensor(X,dtype=torch.float32)\n",
    "Y_tensor = torch.tensor(Y,dtype=torch.float32)"
   ],
   "id": "53e07d3c60e8bc91",
   "outputs": [],
   "execution_count": 27
  },
  {
   "metadata": {
    "ExecuteTime": {
     "end_time": "2024-10-23T19:10:07.819835Z",
     "start_time": "2024-10-23T19:09:48.208820Z"
    }
   },
   "cell_type": "code",
   "source": [
    "for i in range(N_gens):\n",
    "    new_pop=[]\n",
    "    \n",
    "    # Training\n",
    "    print(f'Training generation {i} started')\n",
    "    for j in range(pop_size):\n",
    "     net_pop[j].training(lr,epochs,X_tensor,Y_tensor)\n",
    "    print(f'Training generation {i} endend')\n",
    "     \n",
    "    # Selection and Crossover\n",
    "    print(f'Starting selection and cross-over phase')\n",
    "    for p in range(cro_per):\n",
    "     first_parent=Individual.selection(net_pop,k)\n",
    "     second_parent=Individual.selection(net_pop,k)\n",
    "     child = first_parent.crossover(second_parent,1,2)\n",
    "     print(f'Ge gen1:{first_parent.genome}')\n",
    "     print(f'Ge gen2:{second_parent.genome}')\n",
    "     print(f'Child {p}:{child.genome}')\n",
    "     new_pop.append(child)\n",
    "    print(f'Starting mutation phase')\n",
    "    # Mutuation\n",
    "    for p in range(mut_per):\n",
    "     first_parent=Individual.selection(net_pop,k)\n",
    "     second_parent=Individual.selection(net_pop,k)\n",
    "     child = first_parent.crossover(second_parent,1,2,mut=True)\n",
    "     new_pop.append(child)\n",
    "     print(f'Ge gen1:{first_parent.genome}')\n",
    "     print(f'Ge gen2:{second_parent.genome}')\n",
    "     print(f'Child {p}:{child.genome}')   \n",
    "    net_pop=new_pop\n"
   ],
   "id": "f17e7136daa6c2c9",
   "outputs": [
    {
     "name": "stdout",
     "output_type": "stream",
     "text": [
      "Training generation 0 started\n",
      "Training generation 0 endend\n",
      "Starting selection and cross-over phase\n",
      "Ge gen1:[1.32 1.8  0.94 0.75 1.01 0.21 2.81 1.49 1.58 1.84]\n",
      "Ge gen2:[1.32 1.8  0.94 0.75 1.01 0.21 2.81 1.49 1.58 1.84]\n",
      "Child 0:[1.32, 1.8, 0.94, 0.75, 1.01, 0.21, 2.81, 1.49, 1.58, 1.84]\n",
      "Ge gen1:[1.32 1.8  0.94 0.75 1.01 0.21 2.81 1.49 1.58 1.84]\n",
      "Ge gen2:[1.32 1.8  0.94 0.75 1.01 0.21 2.81 1.49 1.58 1.84]\n",
      "Child 1:[1.32, 1.8, 0.94, 0.75, 1.01, 0.21, 2.81, 1.49, 1.58, 1.84]\n",
      "Ge gen1:[1.32 1.8  0.94 0.75 1.01 0.21 2.81 1.49 1.58 1.84]\n",
      "Ge gen2:[1.32 1.8  0.94 0.75 1.01 0.21 2.81 1.49 1.58 1.84]\n",
      "Child 2:[1.32, 1.8, 0.94, 0.75, 1.01, 0.21, 2.81, 1.49, 1.58, 1.84]\n",
      "Ge gen1:[1.32 1.8  0.94 0.75 1.01 0.21 2.81 1.49 1.58 1.84]\n",
      "Ge gen2:[1.32 1.8  0.94 0.75 1.01 0.21 2.81 1.49 1.58 1.84]\n",
      "Child 3:[1.32, 1.8, 0.94, 0.75, 1.01, 0.21, 2.81, 1.49, 1.58, 1.84]\n",
      "Starting mutation phase\n",
      "Original genome:[1.32, 1.8, 0.94, 0.75, 1.01, 0.21, 2.81, 1.49, 1.58, 1.84]\n",
      "Mutated genome:[1.32, 1.8, 0.94, 0.75, 1.01, 1.51, 2.76, 0.34, 1.58, 1.84]\n",
      "Ge gen1:[1.32 1.8  0.94 0.75 1.01 0.21 2.81 1.49 1.58 1.84]\n",
      "Ge gen2:[1.32 1.8  0.94 0.75 1.01 0.21 2.81 1.49 1.58 1.84]\n",
      "Child 0:[1.32, 1.8, 0.94, 0.75, 1.01, 1.51, 2.76, 0.34, 1.58, 1.84]\n",
      "Training generation 1 started\n",
      "Training generation 1 endend\n",
      "Starting selection and cross-over phase\n",
      "Ge gen1:[1.32, 1.8, 0.94, 0.75, 1.01, 0.21, 2.81, 1.49, 1.58, 1.84]\n",
      "Ge gen2:[1.32, 1.8, 0.94, 0.75, 1.01, 0.21, 2.81, 1.49, 1.58, 1.84]\n",
      "Child 0:[1.32, 1.8, 0.94, 0.75, 1.01, 0.21, 2.81, 1.49, 1.58, 1.84]\n",
      "Ge gen1:[1.32, 1.8, 0.94, 0.75, 1.01, 0.21, 2.81, 1.49, 1.58, 1.84]\n",
      "Ge gen2:[1.32, 1.8, 0.94, 0.75, 1.01, 0.21, 2.81, 1.49, 1.58, 1.84]\n",
      "Child 1:[1.32, 1.8, 0.94, 0.75, 1.01, 0.21, 2.81, 1.49, 1.58, 1.84]\n",
      "Ge gen1:[1.32, 1.8, 0.94, 0.75, 1.01, 0.21, 2.81, 1.49, 1.58, 1.84]\n",
      "Ge gen2:[1.32, 1.8, 0.94, 0.75, 1.01, 0.21, 2.81, 1.49, 1.58, 1.84]\n",
      "Child 2:[1.32, 1.8, 0.94, 0.75, 1.01, 0.21, 2.81, 1.49, 1.58, 1.84]\n",
      "Ge gen1:[1.32, 1.8, 0.94, 0.75, 1.01, 0.21, 2.81, 1.49, 1.58, 1.84]\n",
      "Ge gen2:[1.32, 1.8, 0.94, 0.75, 1.01, 0.21, 2.81, 1.49, 1.58, 1.84]\n",
      "Child 3:[1.32, 1.8, 0.94, 0.75, 1.01, 0.21, 2.81, 1.49, 1.58, 1.84]\n",
      "Starting mutation phase\n",
      "Original genome:[1.32, 1.8, 0.94, 0.75, 1.01, 0.21, 2.81, 1.49, 1.58, 1.84]\n",
      "Mutated genome:[1.32, 0.86, 0.94, 2.15, 1.01, 0.21, 0.55, 1.49, 1.58, 1.84]\n",
      "Ge gen1:[1.32, 1.8, 0.94, 0.75, 1.01, 0.21, 2.81, 1.49, 1.58, 1.84]\n",
      "Ge gen2:[1.32, 1.8, 0.94, 0.75, 1.01, 0.21, 2.81, 1.49, 1.58, 1.84]\n",
      "Child 0:[1.32, 0.86, 0.94, 2.15, 1.01, 0.21, 0.55, 1.49, 1.58, 1.84]\n"
     ]
    }
   ],
   "execution_count": 28
  },
  {
   "metadata": {
    "ExecuteTime": {
     "end_time": "2024-10-23T19:09:11.804718Z",
     "start_time": "2024-10-23T19:09:11.793719Z"
    }
   },
   "cell_type": "code",
   "source": " print_par(2)",
   "id": "e6543ab7011a560c",
   "outputs": [
    {
     "name": "stdout",
     "output_type": "stream",
     "text": [
      "Ind:2,fc1.weight: [[-0.627  0.57   0.123 -0.24   0.456  0.115  0.597  0.081 -0.233  0.198]]\n",
      "Ind:2,fc1.bias: [[0. 0. 0. 0. 0. 0. 0. 0. 0. 0.]]\n",
      "Ind:2,fc2.weight: [[-0.2    0.311  0.659  0.427 -0.323  0.426  0.132  0.375 -0.45  -0.731]]\n",
      "Ind:2,fc2.bias: [[0.]]\n"
     ]
    }
   ],
   "execution_count": 22
  }
 ],
 "metadata": {
  "kernelspec": {
   "display_name": "Python 3",
   "language": "python",
   "name": "python3"
  },
  "language_info": {
   "codemirror_mode": {
    "name": "ipython",
    "version": 2
   },
   "file_extension": ".py",
   "mimetype": "text/x-python",
   "name": "python",
   "nbconvert_exporter": "python",
   "pygments_lexer": "ipython2",
   "version": "2.7.6"
  }
 },
 "nbformat": 4,
 "nbformat_minor": 5
}
